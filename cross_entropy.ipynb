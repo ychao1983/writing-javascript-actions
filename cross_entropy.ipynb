{
 "cells": [
  {
   "cell_type": "code",
   "execution_count": 8,
   "id": "516357ed",
   "metadata": {},
   "outputs": [],
   "source": [
    "import torch\n",
    "from torch.nn import functional as F"
   ]
  },
  {
   "cell_type": "code",
   "execution_count": 9,
   "id": "ba9e5c2b",
   "metadata": {},
   "outputs": [
    {
     "data": {
      "text/plain": [
       "torch.Size([1, 10])"
      ]
     },
     "execution_count": 9,
     "metadata": {},
     "output_type": "execute_result"
    }
   ],
   "source": [
    "x=torch.randn(1,784)\n",
    "w=torch.randn(10,784)\n",
    "logits=x@w.t()\n",
    "logits.size()"
   ]
  },
  {
   "cell_type": "code",
   "execution_count": 11,
   "id": "a1acd58c",
   "metadata": {},
   "outputs": [
    {
     "data": {
      "text/plain": [
       "tensor([[1.0000e+00, 1.8133e-42, 2.2438e-16, 2.5764e-28, 2.9424e-11, 1.1262e-28,\n",
       "         1.4263e-07, 3.7948e-24, 1.8523e-28, 4.7645e-28]])"
      ]
     },
     "execution_count": 11,
     "metadata": {},
     "output_type": "execute_result"
    }
   ],
   "source": [
    "pred=F.softmax(logits,dim=1)\n",
    "pred"
   ]
  },
  {
   "cell_type": "code",
   "execution_count": 12,
   "id": "44fb58c4",
   "metadata": {},
   "outputs": [],
   "source": [
    "pred_log=torch.log(pred)"
   ]
  },
  {
   "cell_type": "code",
   "execution_count": 13,
   "id": "3d106727",
   "metadata": {},
   "outputs": [
    {
     "data": {
      "text/plain": [
       "tensor(63.5260)"
      ]
     },
     "execution_count": 13,
     "metadata": {},
     "output_type": "execute_result"
    }
   ],
   "source": [
    "F.cross_entropy(logits,torch.tensor([3]))  // sofmax+log+nll_loss"
   ]
  },
  {
   "cell_type": "code",
   "execution_count": 15,
   "id": "7513f6c9",
   "metadata": {},
   "outputs": [
    {
     "data": {
      "text/plain": [
       "tensor(1.1921e-07)"
      ]
     },
     "execution_count": 15,
     "metadata": {},
     "output_type": "execute_result"
    }
   ],
   "source": [
    "F.cross_entropy(logits,torch.tensor([0]))"
   ]
  },
  {
   "cell_type": "code",
   "execution_count": 18,
   "id": "39c6d112",
   "metadata": {},
   "outputs": [
    {
     "data": {
      "text/plain": [
       "tensor(63.5260)"
      ]
     },
     "execution_count": 18,
     "metadata": {},
     "output_type": "execute_result"
    }
   ],
   "source": [
    "F.nll_loss(pred_log,torch.tensor([3]))"
   ]
  },
  {
   "cell_type": "code",
   "execution_count": null,
   "id": "4b77d030",
   "metadata": {},
   "outputs": [],
   "source": []
  }
 ],
 "metadata": {
  "kernelspec": {
   "display_name": "Python 3",
   "language": "python",
   "name": "python3"
  },
  "language_info": {
   "codemirror_mode": {
    "name": "ipython",
    "version": 3
   },
   "file_extension": ".py",
   "mimetype": "text/x-python",
   "name": "python",
   "nbconvert_exporter": "python",
   "pygments_lexer": "ipython3",
   "version": "3.6.9"
  }
 },
 "nbformat": 4,
 "nbformat_minor": 5
}
